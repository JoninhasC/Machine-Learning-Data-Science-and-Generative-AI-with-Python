{
 "cells": [
  {
   "cell_type": "code",
   "id": "initial_id",
   "metadata": {
    "collapsed": true,
    "ExecuteTime": {
     "end_time": "2024-09-13T19:02:49.309127Z",
     "start_time": "2024-09-13T19:02:49.236774Z"
    }
   },
   "source": [
    "import numpy as np\n",
    "\n",
    "incomes = np.random.normal(27000, 15000, 10000)\n",
    "np.mean(incomes)"
   ],
   "outputs": [
    {
     "data": {
      "text/plain": [
       "np.float64(26770.860689967594)"
      ]
     },
     "execution_count": 1,
     "metadata": {},
     "output_type": "execute_result"
    }
   ],
   "execution_count": 1
  },
  {
   "metadata": {
    "ExecuteTime": {
     "end_time": "2024-09-13T19:03:34.237541Z",
     "start_time": "2024-09-13T19:03:33.770209Z"
    }
   },
   "cell_type": "code",
   "source": [
    "%matplotlib inline \n",
    "import matplotlib.pyplot as plt\n",
    "plt.hist(incomes,50)\n",
    "plt.show()"
   ],
   "id": "96bb320bb2d17dd1",
   "outputs": [
    {
     "data": {
      "text/plain": [
       "<Figure size 640x480 with 1 Axes>"
      ],
      "image/png": "[encoded data removed]"
     },
     "metadata": {},
     "output_type": "display_data"
    }
   ],
   "execution_count": 3
  },
  {
   "metadata": {
    "ExecuteTime": {
     "end_time": "2024-09-13T19:03:53.493329Z",
     "start_time": "2024-09-13T19:03:53.488284Z"
    }
   },
   "cell_type": "code",
   "source": "np.median(incomes)",
   "id": "201e9ad7b2f8d4a5",
   "outputs": [
    {
     "data": {
      "text/plain": [
       "np.float64(26815.624179466497)"
      ]
     },
     "execution_count": 4,
     "metadata": {},
     "output_type": "execute_result"
    }
   ],
   "execution_count": 4
  },
  {
   "metadata": {
    "ExecuteTime": {
     "end_time": "2024-09-13T19:05:17.708088Z",
     "start_time": "2024-09-13T19:05:17.704697Z"
    }
   },
   "cell_type": "code",
   "source": "incomes = np.append(incomes, [1000000000])",
   "id": "1b60565fca820e42",
   "outputs": [],
   "execution_count": 7
  },
  {
   "metadata": {
    "ExecuteTime": {
     "end_time": "2024-09-13T19:05:18.494557Z",
     "start_time": "2024-09-13T19:05:18.490141Z"
    }
   },
   "cell_type": "code",
   "source": "np.median(incomes)",
   "id": "a6c013e47c4f6646",
   "outputs": [
    {
     "data": {
      "text/plain": [
       "np.float64(26816.011703517972)"
      ]
     },
     "execution_count": 8,
     "metadata": {},
     "output_type": "execute_result"
    }
   ],
   "execution_count": 8
  },
  {
   "metadata": {
    "ExecuteTime": {
     "end_time": "2024-09-13T19:05:28.423234Z",
     "start_time": "2024-09-13T19:05:28.417666Z"
    }
   },
   "cell_type": "code",
   "source": "np.mean(incomes)",
   "id": "f923095aa640bab2",
   "outputs": [
    {
     "data": {
      "text/plain": [
       "np.float64(127745.31162764206)"
      ]
     },
     "execution_count": 9,
     "metadata": {},
     "output_type": "execute_result"
    }
   ],
   "execution_count": 9
  },
  {
   "metadata": {
    "ExecuteTime": {
     "end_time": "2024-09-13T19:06:27.307810Z",
     "start_time": "2024-09-13T19:06:27.301313Z"
    }
   },
   "cell_type": "code",
   "source": [
    "ages = np.random.randint(18, high = 90, size = 500)\n",
    "ages\n"
   ],
   "id": "e56394c76b42f32e",
   "outputs": [
    {
     "data": {
      "text/plain": [
       "array([71, 85, 31, 33, 27, 24, 68, 25, 85, 75, 39, 66, 35, 37, 64, 27, 81,\n",
       "       43, 55, 85, 66, 46, 69, 44, 64, 70, 48, 78, 29, 77, 38, 60, 31, 37,\n",
       "       18, 50, 78, 25, 32, 70, 89, 30, 74, 27, 18, 51, 48, 23, 64, 35, 66,\n",
       "       56, 46, 84, 19, 66, 67, 52, 67, 48, 46, 62, 30, 87, 56, 71, 55, 75,\n",
       "       26, 52, 66, 58, 75, 87, 32, 66, 48, 48, 26, 55, 25, 82, 74, 57, 30,\n",
       "       59, 46, 30, 21, 61, 58, 57, 88, 67, 26, 47, 51, 61, 80, 28, 35, 84,\n",
       "       19, 44, 76, 23, 34, 63, 73, 73, 23, 38, 67, 74, 57, 26, 36, 38, 72,\n",
       "       86, 46, 33, 67, 77, 29, 45, 22, 72, 82, 37, 62, 49, 56, 84, 88, 54,\n",
       "       77, 34, 55, 89, 33, 50, 73, 55, 27, 32, 70, 57, 38, 59, 71, 59, 58,\n",
       "       44, 43, 45, 31, 59, 80, 86, 60, 58, 49, 29, 29, 72, 81, 50, 39, 24,\n",
       "       73, 21, 31, 58, 29, 81, 59, 57, 23, 69, 81, 34, 46, 76, 31, 64, 21,\n",
       "       87, 69, 37, 82, 49, 19, 55, 26, 81, 36, 35, 34, 40, 36, 66, 73, 46,\n",
       "       80, 33, 78, 83, 41, 41, 23, 46, 40, 55, 32, 19, 70, 28, 51, 52, 33,\n",
       "       68, 19, 46, 89, 22, 42, 20, 53, 81, 75, 64, 27, 19, 57, 68, 30, 87,\n",
       "       60, 44, 22, 67, 61, 40, 80, 55, 69, 69, 47, 18, 22, 51, 76, 31, 28,\n",
       "       24, 34, 83, 56, 50, 41, 21, 43, 64, 44, 44, 45, 66, 72, 36, 37, 54,\n",
       "       36, 28, 28, 32, 21, 36, 87, 80, 41, 74, 56, 84, 32, 52, 79, 49, 53,\n",
       "       44, 73, 40, 80, 46, 27, 38, 40, 53, 40, 63, 23, 22, 34, 27, 34, 88,\n",
       "       49, 30, 62, 37, 33, 83, 68, 48, 22, 73, 81, 29, 61, 25, 48, 55, 68,\n",
       "       34, 59, 52, 78, 49, 74, 50, 25, 53, 55, 37, 50, 49, 70, 47, 84, 79,\n",
       "       54, 58, 72, 42, 42, 38, 37, 76, 78, 30, 86, 50, 42, 78, 58, 47, 74,\n",
       "       37, 68, 82, 81, 62, 38, 23, 36, 68, 38, 75, 48, 30, 81, 42, 57, 42,\n",
       "       84, 24, 79, 59, 50, 63, 41, 89, 87, 61, 40, 36, 49, 33, 32, 33, 77,\n",
       "       25, 20, 33, 84, 19, 29, 32, 72, 41, 23, 19, 40, 65, 69, 59, 80, 68,\n",
       "       73, 23, 85, 56, 27, 70, 56, 58, 67, 35, 29, 37, 58, 72, 24, 37, 23,\n",
       "       55, 35, 75, 75, 58, 70, 18, 77, 53, 84, 56, 65, 54, 37, 65, 49, 37,\n",
       "       25, 46, 48, 86, 43, 40, 18, 57, 56, 24, 33, 21, 38, 28, 73, 55, 67,\n",
       "       68, 20, 75, 77, 35, 25, 72, 52, 67, 76, 67, 71, 83, 73, 42, 70, 18,\n",
       "       80, 35, 61, 22, 46, 35, 63, 21, 18, 29, 62, 57, 62, 77, 41, 66, 22,\n",
       "       34, 79, 50, 63, 65, 44, 34], dtype=int32)"
      ]
     },
     "execution_count": 11,
     "metadata": {},
     "output_type": "execute_result"
    }
   ],
   "execution_count": 11
  },
  {
   "metadata": {
    "ExecuteTime": {
     "end_time": "2024-09-13T19:08:14.725197Z",
     "start_time": "2024-09-13T19:08:14.067666Z"
    }
   },
   "cell_type": "code",
   "source": [
    "from scipy import stats\n",
    "stats.mode(ages)"
   ],
   "id": "8747c1ad4391ab12",
   "outputs": [
    {
     "data": {
      "text/plain": [
       "ModeResult(mode=np.int32(37), count=np.int64(13))"
      ]
     },
     "execution_count": 14,
     "metadata": {},
     "output_type": "execute_result"
    }
   ],
   "execution_count": 14
  },
  {
   "metadata": {
    "ExecuteTime": {
     "end_time": "2024-09-13T19:08:05.632097Z",
     "start_time": "2024-09-13T19:07:55.615776Z"
    }
   },
   "cell_type": "code",
   "source": "",
   "id": "927b08054bdf1390",
   "outputs": [
    {
     "name": "stdout",
     "output_type": "stream",
     "text": [
      "Collecting scipy\n",
      "  Downloading scipy-1.14.1-cp312-cp312-win_amd64.whl.metadata (60 kB)\n",
      "Requirement already satisfied: numpy<2.3,>=1.23.5 in c:\\users\\jonin\\appdata\\local\\programs\\python\\python312\\lib\\site-packages (from scipy) (2.1.1)\n",
      "Downloading scipy-1.14.1-cp312-cp312-win_amd64.whl (44.5 MB)\n",
      "   ---------------------------------------- 0.0/44.5 MB ? eta -:--:--\n",
      "   -- ------------------------------------- 3.1/44.5 MB 46.5 MB/s eta 0:00:01\n",
      "   ----------- ---------------------------- 12.6/44.5 MB 32.9 MB/s eta 0:00:01\n",
      "   ---------------------- ----------------- 24.6/44.5 MB 41.1 MB/s eta 0:00:01\n",
      "   ----------------------------------- ---- 39.8/44.5 MB 49.7 MB/s eta 0:00:01\n",
      "   ---------------------------------------- 44.5/44.5 MB 49.7 MB/s eta 0:00:00\n",
      "Installing collected packages: scipy\n",
      "Successfully installed scipy-1.14.1\n",
      "Note: you may need to restart the kernel to use updated packages.\n"
     ]
    }
   ],
   "execution_count": 13
  },
  {
   "metadata": {
    "ExecuteTime": {
     "end_time": "2024-09-13T19:08:46.524122Z",
     "start_time": "2024-09-13T19:08:46.376362Z"
    }
   },
   "cell_type": "code",
   "source": [
    "%matplotlib inline\n",
    "import numpy as np\n",
    "import matplotlib.pyplot as plt\n",
    "\n",
    "incomes = np.random.normal(100.0, 20.0, 10000)\n",
    "\n",
    "plt.hist(incomes, 50)\n",
    "plt.show()"
   ],
   "id": "8115721789344a90",
   "outputs": [
    {
     "data": {
      "text/plain": [
       "<Figure size 640x480 with 1 Axes>"
      ],
      "image/png": "[encoded data removed]"
     },
     "metadata": {},
     "output_type": "display_data"
    }
   ],
   "execution_count": 15
  },
  {
   "metadata": {
    "ExecuteTime": {
     "end_time": "2024-09-13T19:09:35.074610Z",
     "start_time": "2024-09-13T19:09:35.068423Z"
    }
   },
   "cell_type": "code",
   "source": "np.median(incomes)",
   "id": "3b378f938024c779",
   "outputs": [
    {
     "data": {
      "text/plain": [
       "np.float64(99.75228387003402)"
      ]
     },
     "execution_count": 16,
     "metadata": {},
     "output_type": "execute_result"
    }
   ],
   "execution_count": 16
  },
  {
   "metadata": {
    "ExecuteTime": {
     "end_time": "2024-09-13T19:09:53.325608Z",
     "start_time": "2024-09-13T19:09:53.319260Z"
    }
   },
   "cell_type": "code",
   "source": "np.mean(incomes)",
   "id": "60470a5b2a5ac3de",
   "outputs": [
    {
     "data": {
      "text/plain": [
       "np.float64(99.83274236015855)"
      ]
     },
     "execution_count": 17,
     "metadata": {},
     "output_type": "execute_result"
    }
   ],
   "execution_count": 17
  },
  {
   "metadata": {},
   "cell_type": "code",
   "outputs": [],
   "execution_count": null,
   "source": "",
   "id": "9ce8f4fde990f55f"
  }
 ],
 "metadata": {
  "kernelspec": {
   "display_name": "Python 3",
   "language": "python",
   "name": "python3"
  },
  "language_info": {
   "codemirror_mode": {
    "name": "ipython",
    "version": 2
   },
   "file_extension": ".py",
   "mimetype": "text/x-python",
   "name": "python",
   "nbconvert_exporter": "python",
   "pygments_lexer": "ipython2",
   "version": "2.7.6"
  }
 },
 "nbformat": 4,
 "nbformat_minor": 5
}
