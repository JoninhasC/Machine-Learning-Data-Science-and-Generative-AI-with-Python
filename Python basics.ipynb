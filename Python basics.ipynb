{
 "cells": [
  {
   "cell_type": "code",
   "id": "initial_id",
   "metadata": {
    "collapsed": true,
    "ExecuteTime": {
     "end_time": "2024-09-13T18:46:30.703015Z",
     "start_time": "2024-09-13T18:46:30.698776Z"
    }
   },
   "source": [
    "listOfNumber = [1,2,3,4,5,6,7,8,9]\n",
    "\n",
    "for number in listOfNumber:\n",
    "    print(number)\n",
    "    if number%2 == 0:\n",
    "        print(\"even\")\n",
    "    else:\n",
    "        print(\"odd\")\n",
    "        \n",
    "print(\"all done\")"
   ],
   "outputs": [
    {
     "name": "stdout",
     "output_type": "stream",
     "text": [
      "1\n",
      "odd\n",
      "2\n",
      "even\n",
      "3\n",
      "odd\n",
      "4\n",
      "even\n",
      "5\n",
      "odd\n",
      "6\n",
      "even\n",
      "7\n",
      "odd\n",
      "8\n",
      "even\n",
      "9\n",
      "odd\n",
      "all done\n"
     ]
    }
   ],
   "execution_count": 2
  },
  {
   "metadata": {
    "ExecuteTime": {
     "end_time": "2024-09-13T18:48:22.267290Z",
     "start_time": "2024-09-13T18:48:22.191315Z"
    }
   },
   "cell_type": "code",
   "source": [
    "import numpy as np\n",
    "\n",
    "a = np.random.normal(25.0,5.0,10)\n",
    "print(a)"
   ],
   "id": "4665258e372a7302",
   "outputs": [
    {
     "name": "stdout",
     "output_type": "stream",
     "text": [
      "[20.92115257 28.22391263 27.54433948 22.58686295 16.56972744 26.62895259\n",
      " 20.39398879 23.63569725 31.44459501 26.95121497]\n"
     ]
    }
   ],
   "execution_count": 6
  },
  {
   "metadata": {
    "ExecuteTime": {
     "end_time": "2024-09-13T18:48:41.560058Z",
     "start_time": "2024-09-13T18:48:41.556523Z"
    }
   },
   "cell_type": "code",
   "source": [
    "x = [1,2,3,4,5,6,7,8,9]\n",
    "print(len(x))"
   ],
   "id": "58204a3237084b45",
   "outputs": [
    {
     "name": "stdout",
     "output_type": "stream",
     "text": [
      "9\n"
     ]
    }
   ],
   "execution_count": 7
  },
  {
   "metadata": {
    "ExecuteTime": {
     "end_time": "2024-09-13T18:48:57.203937Z",
     "start_time": "2024-09-13T18:48:57.197835Z"
    }
   },
   "cell_type": "code",
   "source": "x[:3]",
   "id": "ef8f9319a133af31",
   "outputs": [
    {
     "data": {
      "text/plain": [
       "[1, 2, 3]"
      ]
     },
     "execution_count": 8,
     "metadata": {},
     "output_type": "execute_result"
    }
   ],
   "execution_count": 8
  },
  {
   "metadata": {
    "ExecuteTime": {
     "end_time": "2024-09-13T18:49:05.397408Z",
     "start_time": "2024-09-13T18:49:05.392928Z"
    }
   },
   "cell_type": "code",
   "source": "x[3:]",
   "id": "ef58bb3b37ffc3cd",
   "outputs": [
    {
     "data": {
      "text/plain": [
       "[4, 5, 6, 7, 8, 9]"
      ]
     },
     "execution_count": 9,
     "metadata": {},
     "output_type": "execute_result"
    }
   ],
   "execution_count": 9
  },
  {
   "metadata": {
    "ExecuteTime": {
     "end_time": "2024-09-13T18:49:12.805705Z",
     "start_time": "2024-09-13T18:49:12.801205Z"
    }
   },
   "cell_type": "code",
   "source": "x[-2:]\n",
   "id": "cd61d20e8a921550",
   "outputs": [
    {
     "data": {
      "text/plain": [
       "[8, 9]"
      ]
     },
     "execution_count": 10,
     "metadata": {},
     "output_type": "execute_result"
    }
   ],
   "execution_count": 10
  },
  {
   "metadata": {
    "ExecuteTime": {
     "end_time": "2024-09-13T18:49:21.022962Z",
     "start_time": "2024-09-13T18:49:21.018932Z"
    }
   },
   "cell_type": "code",
   "source": [
    "x.extend([7,8])\n",
    "x"
   ],
   "id": "b52addfbdddeb01",
   "outputs": [
    {
     "data": {
      "text/plain": [
       "[1, 2, 3, 4, 5, 6, 7, 8, 9, 7, 8]"
      ]
     },
     "execution_count": 11,
     "metadata": {},
     "output_type": "execute_result"
    }
   ],
   "execution_count": 11
  },
  {
   "metadata": {
    "ExecuteTime": {
     "end_time": "2024-09-13T18:49:22.414596Z",
     "start_time": "2024-09-13T18:49:22.409839Z"
    }
   },
   "cell_type": "code",
   "source": [
    "x.append(9)\n",
    "x"
   ],
   "id": "f8e51c87e2001fa3",
   "outputs": [
    {
     "data": {
      "text/plain": [
       "[1, 2, 3, 4, 5, 6, 7, 8, 9, 7, 8, 9]"
      ]
     },
     "execution_count": 12,
     "metadata": {},
     "output_type": "execute_result"
    }
   ],
   "execution_count": 12
  },
  {
   "metadata": {
    "ExecuteTime": {
     "end_time": "2024-09-13T18:49:30.423005Z",
     "start_time": "2024-09-13T18:49:30.417377Z"
    }
   },
   "cell_type": "code",
   "source": [
    "y = [10, 11, 12]\n",
    "listOfLists = [x, y]\n",
    "listOfLists"
   ],
   "id": "d598f3d069bf1816",
   "outputs": [
    {
     "data": {
      "text/plain": [
       "[[1, 2, 3, 4, 5, 6, 7, 8, 9, 7, 8, 9], [10, 11, 12]]"
      ]
     },
     "execution_count": 13,
     "metadata": {},
     "output_type": "execute_result"
    }
   ],
   "execution_count": 13
  },
  {
   "metadata": {
    "ExecuteTime": {
     "end_time": "2024-09-13T18:49:37.597367Z",
     "start_time": "2024-09-13T18:49:37.592320Z"
    }
   },
   "cell_type": "code",
   "source": "y[1]",
   "id": "f6a184735c05bc72",
   "outputs": [
    {
     "data": {
      "text/plain": [
       "11"
      ]
     },
     "execution_count": 14,
     "metadata": {},
     "output_type": "execute_result"
    }
   ],
   "execution_count": 14
  },
  {
   "metadata": {
    "ExecuteTime": {
     "end_time": "2024-09-13T18:49:54.869080Z",
     "start_time": "2024-09-13T18:49:54.864352Z"
    }
   },
   "cell_type": "code",
   "source": [
    "z = [3, 2, 1]\n",
    "z.sort()\n",
    "z"
   ],
   "id": "8b33a23f19ecd9a",
   "outputs": [
    {
     "data": {
      "text/plain": [
       "[1, 2, 3]"
      ]
     },
     "execution_count": 15,
     "metadata": {},
     "output_type": "execute_result"
    }
   ],
   "execution_count": 15
  },
  {
   "metadata": {
    "ExecuteTime": {
     "end_time": "2024-09-13T18:50:12.147136Z",
     "start_time": "2024-09-13T18:50:12.143120Z"
    }
   },
   "cell_type": "code",
   "source": [
    "z.sort(reverse=True)\n",
    "z.sort()\n",
    "z"
   ],
   "id": "a9c019ee41cada04",
   "outputs": [
    {
     "data": {
      "text/plain": [
       "[1, 2, 3]"
      ]
     },
     "execution_count": 16,
     "metadata": {},
     "output_type": "execute_result"
    }
   ],
   "execution_count": 16
  },
  {
   "metadata": {
    "ExecuteTime": {
     "end_time": "2024-09-13T18:50:48.810919Z",
     "start_time": "2024-09-13T18:50:48.805387Z"
    }
   },
   "cell_type": "code",
   "source": [
    "x = (4, 5, 6, 7, 8, 9, 10, 11, 12, 13, 14, 15, 16, 17, 18, 19)\n",
    "y[2]"
   ],
   "id": "c2a31cecec5e6ac4",
   "outputs": [
    {
     "data": {
      "text/plain": [
       "12"
      ]
     },
     "execution_count": 17,
     "metadata": {},
     "output_type": "execute_result"
    }
   ],
   "execution_count": 17
  },
  {
   "metadata": {
    "ExecuteTime": {
     "end_time": "2024-09-13T18:51:27.374021Z",
     "start_time": "2024-09-13T18:51:27.367179Z"
    }
   },
   "cell_type": "code",
   "source": [
    "listOfTuplas = [x, y]\n",
    "listOfTuplas"
   ],
   "id": "8d07570f655f0d99",
   "outputs": [
    {
     "data": {
      "text/plain": [
       "[(4, 5, 6, 7, 8, 9, 10, 11, 12, 13, 14, 15, 16, 17, 18, 19), [10, 11, 12]]"
      ]
     },
     "execution_count": 19,
     "metadata": {},
     "output_type": "execute_result"
    }
   ],
   "execution_count": 19
  },
  {
   "metadata": {
    "ExecuteTime": {
     "end_time": "2024-09-13T18:51:36.752540Z",
     "start_time": "2024-09-13T18:51:36.748716Z"
    }
   },
   "cell_type": "code",
   "source": [
    "(age, income) = \"32,120000\".split(',')\n",
    "print(age)\n",
    "print(income)"
   ],
   "id": "3443b9dbf9a4bcf9",
   "outputs": [
    {
     "name": "stdout",
     "output_type": "stream",
     "text": [
      "32\n",
      "120000\n"
     ]
    }
   ],
   "execution_count": 20
  },
  {
   "metadata": {
    "ExecuteTime": {
     "end_time": "2024-09-13T18:51:40.560078Z",
     "start_time": "2024-09-13T18:51:40.556422Z"
    }
   },
   "cell_type": "code",
   "source": [
    "# Like a map or hash table in other languages\n",
    "captains = {}\n",
    "captains[\"Enterprise\"] = \"Kirk\"\n",
    "captains[\"Enterprise D\"] = \"Picard\"\n",
    "captains[\"Deep Space Nine\"] = \"Sisko\"\n",
    "captains[\"Voyager\"] = \"Janeway\"\n",
    "\n",
    "print(captains[\"Voyager\"])"
   ],
   "id": "b1566e754aadaa62",
   "outputs": [
    {
     "name": "stdout",
     "output_type": "stream",
     "text": [
      "Janeway\n"
     ]
    }
   ],
   "execution_count": 21
  },
  {
   "metadata": {
    "ExecuteTime": {
     "end_time": "2024-09-13T18:51:49.971761Z",
     "start_time": "2024-09-13T18:51:49.968697Z"
    }
   },
   "cell_type": "code",
   "source": "print(captains.get(\"Enterprise\"))",
   "id": "cac2d5a3d3ad653",
   "outputs": [
    {
     "name": "stdout",
     "output_type": "stream",
     "text": [
      "Kirk\n"
     ]
    }
   ],
   "execution_count": 22
  },
  {
   "metadata": {
    "ExecuteTime": {
     "end_time": "2024-09-13T18:51:51.053771Z",
     "start_time": "2024-09-13T18:51:51.050327Z"
    }
   },
   "cell_type": "code",
   "source": "print(captains.get(\"NX-01\"))",
   "id": "b3e014f7580164c7",
   "outputs": [
    {
     "name": "stdout",
     "output_type": "stream",
     "text": [
      "None\n"
     ]
    }
   ],
   "execution_count": 23
  },
  {
   "metadata": {
    "ExecuteTime": {
     "end_time": "2024-09-13T18:51:58.030426Z",
     "start_time": "2024-09-13T18:51:58.027328Z"
    }
   },
   "cell_type": "code",
   "source": [
    "for ship in captains:\n",
    "    print(ship + \": \" + captains[ship])"
   ],
   "id": "cd848d5e2e16149b",
   "outputs": [
    {
     "name": "stdout",
     "output_type": "stream",
     "text": [
      "Enterprise: Kirk\n",
      "Enterprise D: Picard\n",
      "Deep Space Nine: Sisko\n",
      "Voyager: Janeway\n"
     ]
    }
   ],
   "execution_count": 24
  },
  {
   "metadata": {
    "ExecuteTime": {
     "end_time": "2024-09-13T18:52:02.447877Z",
     "start_time": "2024-09-13T18:52:02.444432Z"
    }
   },
   "cell_type": "code",
   "source": [
    "def SquareIt(x):\n",
    "    return x * x\n",
    "\n",
    "print(SquareIt(2))\n"
   ],
   "id": "9cdb9ce9c63704d5",
   "outputs": [
    {
     "name": "stdout",
     "output_type": "stream",
     "text": [
      "4\n"
     ]
    }
   ],
   "execution_count": 25
  },
  {
   "metadata": {
    "ExecuteTime": {
     "end_time": "2024-09-13T18:52:06.916507Z",
     "start_time": "2024-09-13T18:52:06.913003Z"
    }
   },
   "cell_type": "code",
   "source": [
    "#You can pass functions around as parameters\n",
    "def DoSomething(f, x):\n",
    "    return f(x)\n",
    "\n",
    "print(DoSomething(SquareIt, 3))"
   ],
   "id": "bab514ebf92e1050",
   "outputs": [
    {
     "name": "stdout",
     "output_type": "stream",
     "text": [
      "9\n"
     ]
    }
   ],
   "execution_count": 26
  },
  {
   "metadata": {
    "ExecuteTime": {
     "end_time": "2024-09-13T18:52:11.837335Z",
     "start_time": "2024-09-13T18:52:11.833331Z"
    }
   },
   "cell_type": "code",
   "source": [
    "#Lambda functions let you inline simple functions\n",
    "print(DoSomething(lambda x: x * x * x, 3))"
   ],
   "id": "d491c7a5c21b06b",
   "outputs": [
    {
     "name": "stdout",
     "output_type": "stream",
     "text": [
      "27\n"
     ]
    }
   ],
   "execution_count": 27
  },
  {
   "metadata": {
    "ExecuteTime": {
     "end_time": "2024-09-13T18:52:15.611518Z",
     "start_time": "2024-09-13T18:52:15.608417Z"
    }
   },
   "cell_type": "code",
   "source": "print(1 == 3)",
   "id": "11af40833aef00ef",
   "outputs": [
    {
     "name": "stdout",
     "output_type": "stream",
     "text": [
      "False\n"
     ]
    }
   ],
   "execution_count": 28
  },
  {
   "metadata": {
    "ExecuteTime": {
     "end_time": "2024-09-13T18:52:19.566497Z",
     "start_time": "2024-09-13T18:52:19.563496Z"
    }
   },
   "cell_type": "code",
   "source": "print(True or False)",
   "id": "83e8bd33d9065cb1",
   "outputs": [
    {
     "name": "stdout",
     "output_type": "stream",
     "text": [
      "True\n"
     ]
    }
   ],
   "execution_count": 29
  },
  {
   "metadata": {
    "ExecuteTime": {
     "end_time": "2024-09-13T18:52:23.067718Z",
     "start_time": "2024-09-13T18:52:23.064118Z"
    }
   },
   "cell_type": "code",
   "source": "print(1 is 3)",
   "id": "6a1e866897fcf3db",
   "outputs": [
    {
     "name": "stdout",
     "output_type": "stream",
     "text": [
      "False\n"
     ]
    },
    {
     "name": "stderr",
     "output_type": "stream",
     "text": [
      "<>:1: SyntaxWarning: \"is\" with 'int' literal. Did you mean \"==\"?\n",
      "<>:1: SyntaxWarning: \"is\" with 'int' literal. Did you mean \"==\"?\n",
      "C:\\Users\\jonin\\AppData\\Local\\Temp\\ipykernel_36112\\3742584581.py:1: SyntaxWarning: \"is\" with 'int' literal. Did you mean \"==\"?\n",
      "  print(1 is 3)\n"
     ]
    }
   ],
   "execution_count": 30
  },
  {
   "metadata": {
    "ExecuteTime": {
     "end_time": "2024-09-13T18:52:28.111728Z",
     "start_time": "2024-09-13T18:52:28.108575Z"
    }
   },
   "cell_type": "code",
   "source": [
    "if 1 is 3:\n",
    "    print(\"How did that happen?\")\n",
    "elif 1 > 3:\n",
    "    print(\"Yikes\")\n",
    "else:\n",
    "    print(\"All is well with the world\")"
   ],
   "id": "3305b94dd752bf9b",
   "outputs": [
    {
     "name": "stdout",
     "output_type": "stream",
     "text": [
      "All is well with the world\n"
     ]
    },
    {
     "name": "stderr",
     "output_type": "stream",
     "text": [
      "<>:1: SyntaxWarning: \"is\" with 'int' literal. Did you mean \"==\"?\n",
      "<>:1: SyntaxWarning: \"is\" with 'int' literal. Did you mean \"==\"?\n",
      "C:\\Users\\jonin\\AppData\\Local\\Temp\\ipykernel_36112\\1599553278.py:1: SyntaxWarning: \"is\" with 'int' literal. Did you mean \"==\"?\n",
      "  if 1 is 3:\n"
     ]
    }
   ],
   "execution_count": 31
  },
  {
   "metadata": {
    "ExecuteTime": {
     "end_time": "2024-09-13T18:52:33.544405Z",
     "start_time": "2024-09-13T18:52:33.540708Z"
    }
   },
   "cell_type": "code",
   "source": [
    "for x in range(10):\n",
    "    print(x)"
   ],
   "id": "736ca3f8440d7e03",
   "outputs": [
    {
     "name": "stdout",
     "output_type": "stream",
     "text": [
      "0\n",
      "1\n",
      "2\n",
      "3\n",
      "4\n",
      "5\n",
      "6\n",
      "7\n",
      "8\n",
      "9\n"
     ]
    }
   ],
   "execution_count": 32
  },
  {
   "metadata": {
    "ExecuteTime": {
     "end_time": "2024-09-13T18:52:36.662706Z",
     "start_time": "2024-09-13T18:52:36.657664Z"
    }
   },
   "cell_type": "code",
   "source": [
    "for x in range(10):\n",
    "    if (x is 1):\n",
    "        continue\n",
    "    if (x > 5):\n",
    "        break\n",
    "    print(x)"
   ],
   "id": "6ec0c31973eec0c4",
   "outputs": [
    {
     "name": "stdout",
     "output_type": "stream",
     "text": [
      "0\n",
      "2\n",
      "3\n",
      "4\n",
      "5\n"
     ]
    },
    {
     "name": "stderr",
     "output_type": "stream",
     "text": [
      "<>:2: SyntaxWarning: \"is\" with 'int' literal. Did you mean \"==\"?\n",
      "<>:2: SyntaxWarning: \"is\" with 'int' literal. Did you mean \"==\"?\n",
      "C:\\Users\\jonin\\AppData\\Local\\Temp\\ipykernel_36112\\1929958793.py:2: SyntaxWarning: \"is\" with 'int' literal. Did you mean \"==\"?\n",
      "  if (x is 1):\n"
     ]
    }
   ],
   "execution_count": 33
  },
  {
   "metadata": {
    "ExecuteTime": {
     "end_time": "2024-09-13T18:52:48.144934Z",
     "start_time": "2024-09-13T18:52:48.141648Z"
    }
   },
   "cell_type": "code",
   "source": [
    "x = 0\n",
    "while (x < 10):\n",
    "    print(x)\n",
    "    x += 1"
   ],
   "id": "ed487ccf2157b81d",
   "outputs": [
    {
     "name": "stdout",
     "output_type": "stream",
     "text": [
      "0\n",
      "1\n",
      "2\n",
      "3\n",
      "4\n",
      "5\n",
      "6\n",
      "7\n",
      "8\n",
      "9\n"
     ]
    }
   ],
   "execution_count": 34
  },
  {
   "metadata": {},
   "cell_type": "markdown",
   "source": [
    "## Activity\n",
    "Write some code that creates a list of integers, loops through each element of the list, and only prints out even numbers!"
   ],
   "id": "b8ed60ccd715cb0e"
  },
  {
   "metadata": {
    "ExecuteTime": {
     "end_time": "2024-09-13T18:54:37.421649Z",
     "start_time": "2024-09-13T18:54:37.416425Z"
    }
   },
   "cell_type": "code",
   "source": [
    "# Create a list of integers\n",
    "numbers = [1, 2, 3, 4, 5, 6, 7, 8, 9, 10]\n",
    "\n",
    "# Loop through each element in the list\n",
    "for num in numbers:\n",
    "    # Check if the number is even\n",
    "    if num % 2 == 0:\n",
    "        # Print the even number\n",
    "        print(num)\n"
   ],
   "id": "ecce2dce10353243",
   "outputs": [
    {
     "name": "stdout",
     "output_type": "stream",
     "text": [
      "2\n",
      "4\n",
      "6\n",
      "8\n",
      "10\n"
     ]
    }
   ],
   "execution_count": 35
  },
  {
   "metadata": {
    "ExecuteTime": {
     "end_time": "2024-09-13T18:54:40.523645Z",
     "start_time": "2024-09-13T18:54:40.518389Z"
    }
   },
   "cell_type": "code",
   "source": [
    "import numpy as np\n",
    "\n",
    "# Cria uma lista de inteiros usando NumPy\n",
    "numbers = np.array([1, 2, 3, 4, 5, 6, 7, 8, 9, 10])\n",
    "\n",
    "# Filtra e imprime apenas os números pares\n",
    "even_numbers = numbers[numbers % 2 == 0]\n",
    "print(even_numbers)\n"
   ],
   "id": "94ac44c55741f1d7",
   "outputs": [
    {
     "name": "stdout",
     "output_type": "stream",
     "text": [
      "[ 2  4  6  8 10]\n"
     ]
    }
   ],
   "execution_count": 36
  },
  {
   "metadata": {
    "ExecuteTime": {
     "end_time": "2024-09-13T18:55:13.370399Z",
     "start_time": "2024-09-13T18:55:13.364627Z"
    }
   },
   "cell_type": "code",
   "source": [
    "import numpy as np\n",
    "\n",
    "# Gera um array de 10 números inteiros aleatórios entre 1 e 100\n",
    "random_numbers = np.random.randint(1, 101, size=10)\n",
    "\n",
    "# Filtra e imprime apenas os números pares\n",
    "even_numbers = random_numbers[random_numbers % 2 == 0]\n",
    "print(\"Números aleatórios:\", random_numbers)\n",
    "print(\"Números pares:\", even_numbers)\n"
   ],
   "id": "b306cbbf70564289",
   "outputs": [
    {
     "name": "stdout",
     "output_type": "stream",
     "text": [
      "Números aleatórios: [94 13 72 59  9 38  8 15 27 70]\n",
      "Números pares: [94 72 38  8 70]\n"
     ]
    }
   ],
   "execution_count": 37
  },
  {
   "metadata": {},
   "cell_type": "code",
   "outputs": [],
   "execution_count": null,
   "source": "",
   "id": "a504965dad29be59"
  }
 ],
 "metadata": {
  "kernelspec": {
   "display_name": "Python 3",
   "language": "python",
   "name": "python3"
  },
  "language_info": {
   "codemirror_mode": {
    "name": "ipython",
    "version": 2
   },
   "file_extension": ".py",
   "mimetype": "text/x-python",
   "name": "python",
   "nbconvert_exporter": "python",
   "pygments_lexer": "ipython2",
   "version": "2.7.6"
  }
 },
 "nbformat": 4,
 "nbformat_minor": 5
}
